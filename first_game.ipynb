{
 "cells": [
  {
   "cell_type": "markdown",
   "metadata": {
    "heading_collapsed": true
   },
   "source": [
    "## Some Set Up"
   ]
  },
  {
   "cell_type": "code",
   "execution_count": null,
   "metadata": {
    "hidden": true
   },
   "outputs": [],
   "source": [
    "from functools import reduce, partial\n",
    "import operator\n",
    "from math import sqrt, factorial\n",
    "import numpy as np\n",
    "from random import randint, random\n",
    "from copy import deepcopy\n",
    "import time\n",
    "import asyncio"
   ]
  },
  {
   "cell_type": "markdown",
   "metadata": {
    "hidden": true
   },
   "source": [
    "Set up some constants - this should work for all games with two players and uniform pieces (tic-tac-toe, reversi, "
   ]
  },
  {
   "cell_type": "code",
   "execution_count": null,
   "metadata": {
    "hidden": true
   },
   "outputs": [],
   "source": [
    "EMPTY = 0\n",
    "X = 1\n",
    "O = -1\n",
    "\n",
    "out_map = {EMPTY: '', X: 'X', O: 'O'}\n"
   ]
  },
  {
   "cell_type": "code",
   "execution_count": null,
   "metadata": {
    "hidden": true
   },
   "outputs": [],
   "source": [
    "def init_board(size):#board size \n",
    "    board = [] # arrray \n",
    "    for _ in range(size):\n",
    "        board.append(EMPTY)\n",
    "    return board\n",
    "init_board(9)"
   ]
  },
  {
   "cell_type": "code",
   "execution_count": null,
   "metadata": {
    "hidden": true
   },
   "outputs": [],
   "source": [
    "def legal_moves(board): # list comprehension \n",
    "    # return tuple((i for i, v in enumerate(board) if v == EMPTY))\n",
    "    return [i for i, v in enumerate(board) if v == EMPTY]\n",
    "legal_moves(init_board(9))"
   ]
  },
  {
   "cell_type": "code",
   "execution_count": null,
   "metadata": {
    "hidden": true
   },
   "outputs": [],
   "source": [
    "def to_2d(board): # turns board into 2d instead of one dimension \n",
    "    side = int(sqrt(len(board)))\n",
    "    return np.reshape(board,(side, side))\n",
    "to_2d(init_board(9))"
   ]
  },
  {
   "cell_type": "code",
   "execution_count": null,
   "metadata": {
    "hidden": true
   },
   "outputs": [],
   "source": [
    "def has_moves(board, _=None): # if there any legal moves left on the board \n",
    "    return len(legal_moves(board)) > 0\n",
    "has_moves(init_board(9))"
   ]
  },
  {
   "cell_type": "code",
   "execution_count": null,
   "metadata": {
    "hidden": true
   },
   "outputs": [],
   "source": [
    "def winner(board): # who won the game \n",
    "    sq = to_2d(board)\n",
    "    l = len(sq)\n",
    "    for i in range(len(sq)):\n",
    "        s = sum(sq[i])\n",
    "        if s >= l or s <= -l:\n",
    "            return s // l\n",
    "    sq = np.transpose(sq)\n",
    "    for i in range(len(sq)):\n",
    "        s = sum(sq[i])\n",
    "        if s >= l or s <= -l:\n",
    "            return s // l\n",
    "    diag = sum(np.diag(sq))\n",
    "    if diag >= l or diag <= -l:\n",
    "        return diag // l\n",
    "    diag = sum(np.diag(np.flipud(sq)))\n",
    "    if diag >= l or diag <= -l:\n",
    "        return diag // l \n",
    "    return 0\n",
    "\n",
    "winner(init_board(9))"
   ]
  },
  {
   "cell_type": "markdown",
   "metadata": {
    "heading_collapsed": true
   },
   "source": [
    "## Random Player and Game Play"
   ]
  },
  {
   "cell_type": "code",
   "execution_count": null,
   "metadata": {
    "hidden": true
   },
   "outputs": [],
   "source": [
    "def random_player(player, board, lms=None, prt=False): \n",
    "    if lms is None:\n",
    "        lms = legal_moves(board)\n",
    "    ri = randint(0,len(lms)-1) # pick a random number \n",
    "    pos = lms[ri] # based on random number find the position \n",
    "    board[pos] = player\n",
    "    if prt:\n",
    "        print(to_2d(board))\n",
    "    return board\n",
    "b = random_player(X, init_board(9), None, True)\n",
    "b = random_player(O, b, None, True)\n",
    "b = random_player(X, b, None, True)\n",
    "b = random_player(O, b, None, True)\n",
    "b = random_player(X, b, None, True)"
   ]
  },
  {
   "cell_type": "code",
   "execution_count": null,
   "metadata": {
    "hidden": true
   },
   "outputs": [],
   "source": [
    "def play(xs, os, save_game=None):# x and player and o player, gives an option to save the game and returns the winner \n",
    "    b = init_board(9)\n",
    "    turn = X\n",
    "    \n",
    "    lms = legal_moves(b)\n",
    "    while len(lms) > 0:\n",
    "        if save_game is not None:\n",
    "            save_game.append(b.copy())\n",
    "        if turn > 0:\n",
    "            b = xs(b, lms=lms)\n",
    "        else:\n",
    "            b = os(b, lms=lms)\n",
    "        w = winner(b)\n",
    "        if w:\n",
    "            if save_game is not None:\n",
    "                save_game.append(b.copy())\n",
    "            return w\n",
    "        turn *= -1\n",
    "        lms = legal_moves(b)\n",
    "    \n",
    "    if save_game is not None:\n",
    "        save_game.append(b.copy())\n",
    "    return 0\n",
    "\n",
    "saved_game=[]\n",
    "xs = partial(random_player, X)\n",
    "os = partial(random_player, O)\n",
    "play(xs, os, saved_game)"
   ]
  },
  {
   "cell_type": "code",
   "execution_count": null,
   "metadata": {
    "hidden": true
   },
   "outputs": [],
   "source": [
    "def print_game(g):\n",
    "    for s in g:\n",
    "        print(to_2d(s))\n",
    "\n",
    "print_game(saved_game)"
   ]
  },
  {
   "cell_type": "code",
   "execution_count": null,
   "metadata": {
    "hidden": true
   },
   "outputs": [],
   "source": [
    "def simulate(num, xs, os): # simulates a number of games depending on how many you want to play \n",
    "    results = { X: 0, O: 0, 0: 0,}  #map associates a key with a value, if key is known value is found faster \n",
    "    for _ in range(num):\n",
    "        results[play(xs, os)] += 1\n",
    "    return {k: (v/num) * 100 for k,v in results.items()}\n",
    "simulate(10000, xs, os)"
   ]
  },
  {
   "cell_type": "code",
   "execution_count": null,
   "metadata": {
    "hidden": true
   },
   "outputs": [],
   "source": [
    "def pretty_print_board(board): # prints a board for playing interactive games  \n",
    "    two_d = to_2d(board)\n",
    "    cs = {1: 'X', -1: 'O', 0:'.'}\n",
    "    print('  123')\n",
    "    for i in range(len(two_d)):\n",
    "        print(str(i+1) + ' ', end='')\n",
    "        for j in range(len(two_d)):\n",
    "            print(cs[two_d[i][j]], end='')\n",
    "        print('')\n",
    "pretty_print_board(init_board(9))"
   ]
  },
  {
   "cell_type": "markdown",
   "metadata": {
    "heading_collapsed": true
   },
   "source": [
    "## Interactive Player"
   ]
  },
  {
   "cell_type": "code",
   "execution_count": null,
   "metadata": {
    "hidden": true
   },
   "outputs": [],
   "source": [
    "def interactive_player(player, board, lms=None, prt=False):\n",
    "    pretty_print_board(board)\n",
    "    print(\"Move: \", end='')\n",
    "    move = input()\n",
    "    pos = (int(move[0])-1) * 3 + int(move[1]) - 1\n",
    "    \n",
    "    if lms is None:\n",
    "        lms = legal_moves(board)\n",
    "    if pos not in set(lms):\n",
    "        raise Exception('Illegal Move')\n",
    "    board[pos] = player\n",
    "    pretty_print_board(board)\n",
    "    return board"
   ]
  },
  {
   "cell_type": "code",
   "execution_count": null,
   "metadata": {
    "hidden": true
   },
   "outputs": [],
   "source": [
    "ixs = partial(interactive_player, X)"
   ]
  },
  {
   "cell_type": "code",
   "execution_count": null,
   "metadata": {
    "hidden": true
   },
   "outputs": [],
   "source": [
    "play(ixs, os)"
   ]
  },
  {
   "cell_type": "markdown",
   "metadata": {
    "heading_collapsed": true
   },
   "source": [
    "## Widget Player"
   ]
  },
  {
   "cell_type": "code",
   "execution_count": null,
   "metadata": {
    "hidden": true
   },
   "outputs": [],
   "source": [
    "import ipywidgets as ws\n",
    "from IPython.display import display\n",
    "from traitlets import Unicode\n"
   ]
  },
  {
   "cell_type": "code",
   "execution_count": null,
   "metadata": {
    "hidden": true
   },
   "outputs": [],
   "source": [
    "%gui asyncio"
   ]
  },
  {
   "cell_type": "code",
   "execution_count": null,
   "metadata": {
    "hidden": true
   },
   "outputs": [],
   "source": [
    "size = 3\n",
    "buttons = [ws.ToggleButton(value=False, description='', disabled=True,\n",
    "                     layout=ws.Layout(width='34px', height='34px'),\n",
    "                     sync=True) \n",
    "           for i in range(size**2)]\n",
    "hboxes = []\n",
    "for i in range(size):\n",
    "    hbox = []\n",
    "    for j in range(size):\n",
    "        hbox.append(buttons[size*i+j])\n",
    "        buttons[size*i+j].i = size*i+j\n",
    "        #buttons[size*i+j].observe(partial(on_button_clicked, size*i+j), names='value')\n",
    "        \n",
    "    hboxes.append(ws.HBox(hbox))\n",
    "\n",
    "vbox = ws.VBox(hboxes)\n",
    "clicked_value = ws.IntText(value=-1, disabled=True)\n",
    "output = ws.Output()"
   ]
  },
  {
   "cell_type": "code",
   "execution_count": null,
   "metadata": {
    "hidden": true
   },
   "outputs": [],
   "source": [
    "def set_value_on_button_click(change):\n",
    "    clicked_value.value = change['owner'].i\n",
    "\n",
    "for b in buttons:\n",
    "    b.observe(set_value_on_button_click, 'value')"
   ]
  },
  {
   "cell_type": "code",
   "execution_count": null,
   "metadata": {
    "hidden": true
   },
   "outputs": [],
   "source": [
    "def draw_widget_board(board, buttons):\n",
    "    for i in range(len(board)):\n",
    "        # buttons[i].value = False\n",
    "        buttons[i].description = out_map[board[i]]\n",
    "        "
   ]
  },
  {
   "cell_type": "code",
   "execution_count": null,
   "metadata": {
    "hidden": true,
    "scrolled": true
   },
   "outputs": [],
   "source": [
    "display(vbox, clicked_value, output)"
   ]
  },
  {
   "cell_type": "code",
   "execution_count": null,
   "metadata": {
    "hidden": true
   },
   "outputs": [],
   "source": [
    "clicked_value.value = -1\n",
    "buttons[1].disabled = False"
   ]
  },
  {
   "cell_type": "code",
   "execution_count": null,
   "metadata": {
    "hidden": true
   },
   "outputs": [],
   "source": [
    "draw_widget_board(init_board(9), buttons)\n",
    "draw_widget_board([0,1,1,-1,0,0,0,1,0], buttons)"
   ]
  },
  {
   "cell_type": "code",
   "execution_count": null,
   "metadata": {
    "hidden": true
   },
   "outputs": [],
   "source": [
    "def wait_for_change(widget, value):\n",
    "    future = asyncio.Future()\n",
    "    def getvalue(change):\n",
    "        # make the new value available\n",
    "        future.set_result(change.new)\n",
    "        widget.unobserve(getvalue, value)\n",
    "    widget.observe(getvalue, value)\n",
    "    return future\n"
   ]
  },
  {
   "cell_type": "code",
   "execution_count": null,
   "metadata": {
    "hidden": true
   },
   "outputs": [],
   "source": [
    "async def widget_player(player, buttons,  board, lms=None, prt=False):\n",
    "    draw_widget_board(board, buttons)\n",
    "    \n",
    "    # disable all for first time through\n",
    "    # for i in range(len(buttons)):\n",
    "        # buttons[i].disabled = True\n",
    "    \n",
    "    if lms is None:\n",
    "        lms = legal_moves(board)\n",
    "    \n",
    "    # enable the legal moves\n",
    "    for i in lms:\n",
    "        buttons[i].disabled = False\n",
    "    \n",
    "    out = []\n",
    "    def fun(widget, out):\n",
    "        out.append(await wait_for_change(widget, 'value'))\n",
    "        with output:\n",
    "            print('here', widget.value)\n",
    "        return out\n",
    "    \n",
    "    clicked = await fun(clicked_value, out)\n",
    "    \n",
    "    #pos = change\n",
    "    board[out[0]] = player\n",
    "    for i in range(len(buttons)):\n",
    "        buttons[i].disabled = True\n",
    "        buttons[i].value = False\n",
    "    draw_widget_board(board, buttons)\n",
    "    return board"
   ]
  },
  {
   "cell_type": "code",
   "execution_count": null,
   "metadata": {
    "hidden": true
   },
   "outputs": [],
   "source": [
    "def async_play(xs, os, save_game=None):# x and player and o player, gives an option to save the game and returns the winner \n",
    "    b = init_board(9)\n",
    "    turn = X\n",
    "    \n",
    "    \n",
    "    lms = legal_moves(b)\n",
    "    with output:\n",
    "        print('outside loop', lms)\n",
    "    while len(lms) > 0:\n",
    "        with output:\n",
    "            print('turn', turn)\n",
    "        if save_game is not None:\n",
    "            save_game.append(b.copy())\n",
    "        if turn > 0:\n",
    "            ret = await xs(b, lms=lms)\n",
    "            with output:\n",
    "                print('return', ret)\n",
    "            b = ret\n",
    "            \n",
    "        else:\n",
    "            b = os(b, lms=lms)\n",
    "        w = winner(b)\n",
    "        if w:\n",
    "            if save_game is not None:\n",
    "                save_game.append(b.copy())\n",
    "            return w\n",
    "        turn *= -1\n",
    "        lms = legal_moves(b)\n",
    "    \n",
    "    if save_game is not None:\n",
    "        save_game.append(b.copy())\n",
    "    return 0"
   ]
  },
  {
   "cell_type": "code",
   "execution_count": null,
   "metadata": {
    "hidden": true
   },
   "outputs": [],
   "source": [
    "output = ws.Output()\n",
    "wpx = partial(widget_player, X, buttons)\n",
    "x = asyncio.ensure_future(async_play(wpx, mm_os))\n",
    "display(vbox, clicked_value, output)"
   ]
  },
  {
   "cell_type": "code",
   "execution_count": null,
   "metadata": {
    "hidden": true,
    "scrolled": false
   },
   "outputs": [],
   "source": [
    "x"
   ]
  },
  {
   "cell_type": "markdown",
   "metadata": {
    "heading_collapsed": true
   },
   "source": [
    "## MinMax"
   ]
  },
  {
   "cell_type": "code",
   "execution_count": null,
   "metadata": {
    "hidden": true
   },
   "outputs": [],
   "source": [
    "def build_tree(board, caches, factor=1, level=1):\n",
    "    w = winner(board)\n",
    "    if w:\n",
    "        return [[factor, level*-1, None, w, w]]\n",
    "    \n",
    "    lms = legal_moves(board)\n",
    "    if len(lms) == 0:\n",
    "        return [[factor, level*-1, None, 0, 0]]\n",
    "    \n",
    "    trees = []\n",
    "    for m in lms:\n",
    "        bc = board.copy()\n",
    "        bc[m] = factor\n",
    "        trees.append([factor, level*-1, m, None, build_tree(bc, caches, factor * -1, level*-1)])\n",
    "        if level == -1:\n",
    "            trees[-1][3] = max([sub_tree[3] for sub_tree in trees[-1][4]])\n",
    "        else:\n",
    "            trees[-1][3] = min([sub_tree[3] for sub_tree in trees[-1][4]])\n",
    "    \n",
    "    if level == 1:\n",
    "        mx = max([sub_tree[3] for sub_tree in trees])\n",
    "        caches[1][tuple(board)] = [sub_tree[2] for sub_tree in trees if sub_tree[3] == mx]\n",
    "    else:\n",
    "        mx = min([sub_tree[3] for sub_tree in trees])\n",
    "        caches[-1][tuple(board)] = [sub_tree[2] for sub_tree in trees if sub_tree[3] == mx]\n",
    "    return trees"
   ]
  },
  {
   "cell_type": "code",
   "execution_count": null,
   "metadata": {
    "hidden": true
   },
   "outputs": [],
   "source": [
    "min_max_caches = {1:{}, -1:{}}\n",
    "build_tree(init_board(9), min_max_caches)"
   ]
  },
  {
   "cell_type": "code",
   "execution_count": null,
   "metadata": {
    "hidden": true
   },
   "outputs": [],
   "source": [
    "def min_max_player(player, caches, board, lms=None, prt=False):\n",
    "    best_moves = caches[player][tuple(board)]\n",
    "    ri = randint(0,len(best_moves)-1)\n",
    "    board[best_moves[ri]] = player\n",
    "    if prt:\n",
    "        print(to_2d(board))\n",
    "    return board\n",
    "mm_xs = partial(min_max_player, X, min_max_caches)\n",
    "mm_os = partial(min_max_player, O, min_max_caches)"
   ]
  },
  {
   "cell_type": "code",
   "execution_count": null,
   "metadata": {
    "hidden": true
   },
   "outputs": [],
   "source": [
    "simulate(10000, mm_xs, os), simulate(10000, xs, mm_os), simulate(10000, mm_xs, mm_os)"
   ]
  },
  {
   "cell_type": "code",
   "execution_count": null,
   "metadata": {
    "hidden": true
   },
   "outputs": [],
   "source": [
    "def q_table_player(player, q_table, episilon, board, lms=None, prt=False):\n",
    "    actions = q_table.setdefault(tuple(board), {lm:0.0 for lm in legal_moves(board)})\n",
    "    if random() > (1-episilon):  # set epsilon to 0.0 for no random moves\n",
    "        return random_player(player, board, lms, prt)\n",
    "    else:\n",
    "        max_action = max(actions.values())\n",
    "        best_actions = [m for m, v in actions.items() if v == max_action]\n",
    "        ri = randint(0,len(best_actions)-1)\n",
    "        board[best_actions[ri]] = player \n",
    "        return board\n",
    "    \n"
   ]
  },
  {
   "cell_type": "code",
   "execution_count": null,
   "metadata": {
    "hidden": true
   },
   "outputs": [],
   "source": [
    "q_table = {}"
   ]
  },
  {
   "cell_type": "code",
   "execution_count": null,
   "metadata": {
    "hidden": true
   },
   "outputs": [],
   "source": [
    "\n",
    "\n",
    "def train_q_table(n=1, gamma=0.95, alpha=0.2, training_partner=None):\n",
    "    xs = partial(q_table_player, 1, q_table, 0.3)\n",
    "    if training_partner is None:\n",
    "        training_partner = partial(random_player, -1)\n",
    "    \n",
    "    for _ in range(n):\n",
    "        save = []\n",
    "        r = play(xs, os, save)\n",
    "        # print(print_game(save))\n",
    "        if r:\n",
    "            if r == -1:\n",
    "                start = -2\n",
    "            else:\n",
    "                start = -1\n",
    "            for i in range(start, -1 * len(save), -2):\n",
    "                \n",
    "                move = [x - y for x, y in zip(save[i], save[i-1])].index(1)\n",
    "                current = q_table[tuple(save[i-1])][move]\n",
    "                # print(i, move, current)\n",
    "                q_table[tuple(save[i-1])][move] = alpha * (current + r) * (1-alpha)\n",
    "                r *= gamma\n",
    "        if _ % 10000 == 0:\n",
    "            print('.', end='')\n",
    "        if _ % 100000 == 0:\n",
    "            print()\n",
    "            \n",
    "train_q_table(500000)"
   ]
  },
  {
   "cell_type": "code",
   "execution_count": null,
   "metadata": {
    "hidden": true
   },
   "outputs": [],
   "source": [
    "qt_xs = partial(q_table_player, 1, q_table, 0.0)\n",
    "play(qt_xs, os)"
   ]
  },
  {
   "cell_type": "code",
   "execution_count": null,
   "metadata": {
    "hidden": true
   },
   "outputs": [],
   "source": [
    "simulate(10000, qt_xs, mm_os)"
   ]
  },
  {
   "cell_type": "markdown",
   "metadata": {
    "heading_collapsed": true
   },
   "source": [
    "## Play Async"
   ]
  },
  {
   "cell_type": "code",
   "execution_count": null,
   "metadata": {
    "hidden": true
   },
   "outputs": [],
   "source": [
    "import ipywidgets as ws\n",
    "from IPython.display import display\n",
    "from traitlets import Unicode\n",
    "import asyncio"
   ]
  },
  {
   "cell_type": "code",
   "execution_count": null,
   "metadata": {
    "hidden": true
   },
   "outputs": [],
   "source": [
    "%gui asyncio"
   ]
  },
  {
   "cell_type": "code",
   "execution_count": null,
   "metadata": {
    "hidden": true,
    "scrolled": true
   },
   "outputs": [],
   "source": [
    "button1 = ws.ToggleButton(description='click')\n",
    "button1.i = 1\n",
    "button2 = ws.ToggleButton(description='click')\n",
    "button2.i = 2\n",
    "output = ws.Output()\n",
    "click_value = ws.IntText(value=-1, disabled=True)\n",
    "\n",
    "def button_change(change):\n",
    "    click_value.value = change['owner'].i\n",
    "\n",
    "button1.observe(button_change, 'value')\n",
    "button2.observe(button_change, 'value')\n"
   ]
  },
  {
   "cell_type": "code",
   "execution_count": null,
   "metadata": {
    "hidden": true,
    "scrolled": false
   },
   "outputs": [],
   "source": [
    "display(button1, button2, click_value, output)"
   ]
  },
  {
   "cell_type": "code",
   "execution_count": null,
   "metadata": {
    "hidden": true
   },
   "outputs": [],
   "source": [
    "def wait_for_change(widget, value):\n",
    "    future = asyncio.Future()\n",
    "    def getvalue(change):\n",
    "        # make the new value available\n",
    "        future.set_result(change.new)\n",
    "        widget.unobserve(getvalue, value)\n",
    "    widget.observe(getvalue, value)\n",
    "    return future"
   ]
  },
  {
   "cell_type": "code",
   "execution_count": null,
   "metadata": {
    "hidden": true
   },
   "outputs": [],
   "source": [
    "def fun(widget, out):\n",
    "    for i in range(5):\n",
    "        out.append(await wait_for_change(widget, 'value')) \n",
    "        with output:\n",
    "            print('here', widget.value)\n",
    "        click_value.value = -1\n",
    "    return out"
   ]
  },
  {
   "cell_type": "code",
   "execution_count": null,
   "metadata": {
    "hidden": true
   },
   "outputs": [],
   "source": [
    "def outside():\n",
    "    out = []\n",
    "    x = fun(click_value, out)\n",
    "    await x\n",
    "    return out"
   ]
  },
  {
   "cell_type": "code",
   "execution_count": null,
   "metadata": {
    "hidden": true
   },
   "outputs": [],
   "source": [
    "x = asyncio.ensure_future(outside())"
   ]
  },
  {
   "cell_type": "code",
   "execution_count": null,
   "metadata": {
    "hidden": true
   },
   "outputs": [],
   "source": [
    "x"
   ]
  },
  {
   "cell_type": "code",
   "execution_count": null,
   "metadata": {
    "hidden": true
   },
   "outputs": [],
   "source": [
    "x = asyncio.ensure_future(fun(click_value, out))\n",
    "x"
   ]
  },
  {
   "cell_type": "code",
   "execution_count": null,
   "metadata": {
    "hidden": true
   },
   "outputs": [],
   "source": [
    "x"
   ]
  },
  {
   "cell_type": "code",
   "execution_count": null,
   "metadata": {
    "hidden": true
   },
   "outputs": [],
   "source": [
    "slider = ws.IntSlider()\n",
    "out = ws.Output()\n",
    "\n",
    "async def f():\n",
    "    for i in range(10):\n",
    "        out.append_stdout('did work ' + str(i) + '\\n')\n",
    "        x = await wait_for_change(slider, 'value')\n",
    "        out.append_stdout('async function continued with value ' + str(x) + '\\n')\n",
    "asyncio.ensure_future(f())\n",
    "\n",
    "slider"
   ]
  },
  {
   "cell_type": "code",
   "execution_count": null,
   "metadata": {
    "hidden": true
   },
   "outputs": [],
   "source": [
    "out"
   ]
  },
  {
   "cell_type": "code",
   "execution_count": null,
   "metadata": {
    "hidden": true
   },
   "outputs": [],
   "source": [
    "out = []"
   ]
  },
  {
   "cell_type": "code",
   "execution_count": null,
   "metadata": {
    "hidden": true
   },
   "outputs": [],
   "source": [
    "x = asyncio.ensure_future(fun(click_value, out))"
   ]
  },
  {
   "cell_type": "code",
   "execution_count": null,
   "metadata": {
    "hidden": true
   },
   "outputs": [],
   "source": [
    "x, out"
   ]
  },
  {
   "cell_type": "code",
   "execution_count": null,
   "metadata": {
    "hidden": true
   },
   "outputs": [],
   "source": [
    "click_value.value = -1\n",
    "loop = asyncio.get_event_loop()\n",
    "x = loop.create_task(fun(loop, click_value, out))\n",
    "x"
   ]
  },
  {
   "cell_type": "code",
   "execution_count": null,
   "metadata": {
    "hidden": true
   },
   "outputs": [],
   "source": [
    "async def wrapping_fun():\n",
    "    click_value.value = -1\n",
    "    loop = asyncio.get_event_loop()\n",
    "    x = loop.create_task(fun(loop, click_value, out))\n",
    "    while not x.done():\n",
    "        print('here')\n",
    "        await asyncio.sleep(10)\n",
    "# y = asyncio.ensure_future(fun(button2, out))"
   ]
  },
  {
   "cell_type": "code",
   "execution_count": null,
   "metadata": {
    "hidden": true
   },
   "outputs": [],
   "source": [
    "await wrapping_fun()"
   ]
  },
  {
   "cell_type": "code",
   "execution_count": null,
   "metadata": {
    "hidden": true
   },
   "outputs": [],
   "source": [
    "x, out"
   ]
  },
  {
   "cell_type": "code",
   "execution_count": null,
   "metadata": {
    "hidden": true
   },
   "outputs": [],
   "source": [
    "x.result()"
   ]
  },
  {
   "cell_type": "code",
   "execution_count": null,
   "metadata": {
    "hidden": true
   },
   "outputs": [],
   "source": [
    "# await asyncio.wait({fun(button1, out),fun(button2, out)}, return_when=asyncio.FIRST_COMPLETED)\n",
    "await asyncio.wait({x, y}, return_when=asyncio.FIRST_COMPLETED)"
   ]
  },
  {
   "cell_type": "code",
   "execution_count": null,
   "metadata": {
    "hidden": true
   },
   "outputs": [],
   "source": [
    "x"
   ]
  },
  {
   "cell_type": "code",
   "execution_count": null,
   "metadata": {
    "hidden": true
   },
   "outputs": [],
   "source": []
  },
  {
   "cell_type": "code",
   "execution_count": null,
   "metadata": {
    "hidden": true
   },
   "outputs": [],
   "source": [
    "x = asyncio.create_task(asyncio.ensure_future(fun(button1, out)))\n",
    "y = asyncio.create_task(asyncio.ensure_future(fun(button2, out)))"
   ]
  },
  {
   "cell_type": "code",
   "execution_count": null,
   "metadata": {
    "hidden": true
   },
   "outputs": [],
   "source": [
    "out[0].owner.i"
   ]
  },
  {
   "cell_type": "code",
   "execution_count": null,
   "metadata": {
    "hidden": true,
    "scrolled": true
   },
   "outputs": [],
   "source": [
    "out, button1.value, button2.value"
   ]
  },
  {
   "cell_type": "code",
   "execution_count": null,
   "metadata": {
    "hidden": true
   },
   "outputs": [],
   "source": [
    "button = ws.ToggleButton(description='click')\n",
    "button"
   ]
  },
  {
   "cell_type": "code",
   "execution_count": null,
   "metadata": {
    "hidden": true
   },
   "outputs": [],
   "source": [
    "def clicked(change):\n",
    "    return(change)\n",
    "y = button.observe(clicked, 'value')"
   ]
  },
  {
   "cell_type": "code",
   "execution_count": null,
   "metadata": {
    "hidden": true
   },
   "outputs": [],
   "source": [
    "y"
   ]
  },
  {
   "cell_type": "code",
   "execution_count": null,
   "metadata": {
    "hidden": true
   },
   "outputs": [],
   "source": [
    "size = 3\n",
    "buttons = [ws.ToggleButton(value=False, description='', \n",
    "                     layout=ws.Layout(width='34px', height='34px'),\n",
    "                     sync=True) \n",
    "           for i in range(size**2)]\n",
    "hboxes = []\n",
    "for i in range(size):\n",
    "    hbox = []\n",
    "    for j in range(size):\n",
    "        hbox.append(buttons[size*i+j])\n",
    "        buttons[size*i+j].i = size*i+j\n",
    "        # buttons[size*i+j].observe(partial(on_button_clicked, size*i+j), names='value')\n",
    "        \n",
    "    hboxes.append(ws.HBox(hbox))\n",
    "\n",
    "vbox = ws.VBox(hboxes)\n",
    "output = ws.Output()"
   ]
  },
  {
   "cell_type": "code",
   "execution_count": null,
   "metadata": {
    "hidden": true
   },
   "outputs": [],
   "source": [
    "vbox"
   ]
  },
  {
   "cell_type": "code",
   "execution_count": null,
   "metadata": {
    "hidden": true
   },
   "outputs": [],
   "source": [
    "%autoawait"
   ]
  },
  {
   "cell_type": "code",
   "execution_count": null,
   "metadata": {
    "hidden": true
   },
   "outputs": [],
   "source": [
    "from random import randint\n",
    "def foo(n,s):\n",
    "    future = asyncio.Future()\n",
    "    await asyncio.sleep(s)\n",
    "    future.set_result(n)\n",
    "    return future\n",
    "\n",
    "task = asyncio.ensure_future(foo(24, 5))\n",
    "task1 = asyncio.ensure_future(foo(42, 1))\n",
    "task, task1"
   ]
  },
  {
   "cell_type": "code",
   "execution_count": null,
   "metadata": {
    "hidden": true
   },
   "outputs": [],
   "source": [
    "await asyncio.wait({task, task1}, return_when=asyncio.FIRST_COMPLETED)"
   ]
  },
  {
   "cell_type": "code",
   "execution_count": null,
   "metadata": {
    "hidden": true
   },
   "outputs": [],
   "source": [
    "display(vbox, clicked_value)"
   ]
  },
  {
   "cell_type": "code",
   "execution_count": null,
   "metadata": {
    "hidden": true
   },
   "outputs": [],
   "source": [
    "vbox.keys"
   ]
  },
  {
   "cell_type": "code",
   "execution_count": null,
   "metadata": {
    "hidden": true
   },
   "outputs": [],
   "source": [
    "async def f():\n",
    "    return 42"
   ]
  },
  {
   "cell_type": "code",
   "execution_count": null,
   "metadata": {
    "hidden": true
   },
   "outputs": [],
   "source": [
    "x = asyncio.ensure_future(f())"
   ]
  },
  {
   "cell_type": "code",
   "execution_count": null,
   "metadata": {
    "hidden": true
   },
   "outputs": [],
   "source": [
    "x"
   ]
  },
  {
   "cell_type": "code",
   "execution_count": null,
   "metadata": {
    "hidden": true
   },
   "outputs": [],
   "source": [
    "loop = asyncio.get_event_loop()"
   ]
  },
  {
   "cell_type": "markdown",
   "metadata": {
    "heading_collapsed": true
   },
   "source": [
    "## Play widget yield"
   ]
  },
  {
   "cell_type": "code",
   "execution_count": null,
   "metadata": {
    "hidden": true
   },
   "outputs": [],
   "source": [
    "import time\n",
    "import ipywidgets as ws\n",
    "from IPython.display import display\n",
    "from traitlets import Unicode\n",
    "import asyncio"
   ]
  },
  {
   "cell_type": "code",
   "execution_count": null,
   "metadata": {
    "hidden": true
   },
   "outputs": [],
   "source": [
    "button1 = ws.ToggleButton(description='click')\n",
    "button1.i = 1\n",
    "button2 = ws.ToggleButton(description='click')\n",
    "button2.i = 2\n",
    "output = ws.Output()\n",
    "click_value = ws.IntText(value=-1, disabled=True)\n",
    "\n",
    "def button_change(change):\n",
    "    click_value.value = change['owner'].i\n",
    "\n",
    "button1.observe(button_change, 'value')\n",
    "button2.observe(button_change, 'value')\n",
    "\n"
   ]
  },
  {
   "cell_type": "code",
   "execution_count": null,
   "metadata": {
    "hidden": true,
    "scrolled": false
   },
   "outputs": [],
   "source": [
    "display(button1, button2, click_value, output)"
   ]
  },
  {
   "cell_type": "code",
   "execution_count": null,
   "metadata": {
    "hidden": true
   },
   "outputs": [],
   "source": [
    "from functools import wraps\n",
    "def yield_for_change(widget, attribute):\n",
    "    \"\"\"Pause a generator to wait for a widget change event.\n",
    "\n",
    "    This is a decorator for a generator function which pauses the generator on yield\n",
    "    until the given widget attribute changes. The new value of the attribute is\n",
    "    sent to the generator and is the value of the yield.\n",
    "    \"\"\"\n",
    "    def f(iterator):\n",
    "        @wraps(iterator)\n",
    "        def inner(*args):\n",
    "            i = iterator(*args)\n",
    "            def next_i(change):\n",
    "                try:\n",
    "                    i.send(change.new)\n",
    "                except StopIteration as e:\n",
    "                    with output:\n",
    "                        print('stop iteration')\n",
    "                    widget.unobserve(next_i, attribute)\n",
    "            widget.observe(next_i, attribute)\n",
    "            # start the generator\n",
    "            next(i)\n",
    "            return i\n",
    "        return inner\n",
    "    return f"
   ]
  },
  {
   "cell_type": "code",
   "execution_count": null,
   "metadata": {
    "hidden": true
   },
   "outputs": [],
   "source": [
    "@yield_for_change(button1, 'value')\n",
    "def f(out): \n",
    "    x = yield\n",
    "    if x >= 0:\n",
    "        out.append(x)\n",
    "    with output:\n",
    "        print(x)\n",
    "    "
   ]
  },
  {
   "cell_type": "code",
   "execution_count": null,
   "metadata": {
    "hidden": true
   },
   "outputs": [],
   "source": [
    "out = []\n",
    "\n"
   ]
  },
  {
   "cell_type": "code",
   "execution_count": null,
   "metadata": {
    "hidden": true
   },
   "outputs": [],
   "source": [
    "click_value.value = -1\n",
    "g = f(out)"
   ]
  },
  {
   "cell_type": "code",
   "execution_count": null,
   "metadata": {
    "hidden": true
   },
   "outputs": [],
   "source": [
    "async def wait_for_out():\n",
    "    while not out:\n",
    "        await asyncio.sleep(.5)"
   ]
  },
  {
   "cell_type": "code",
   "execution_count": null,
   "metadata": {
    "hidden": true
   },
   "outputs": [],
   "source": [
    "await wait_for_out()"
   ]
  },
  {
   "cell_type": "code",
   "execution_count": null,
   "metadata": {
    "hidden": true
   },
   "outputs": [],
   "source": [
    "out"
   ]
  },
  {
   "cell_type": "code",
   "execution_count": null,
   "metadata": {
    "hidden": true
   },
   "outputs": [],
   "source": [
    "button1.unobserve(all)"
   ]
  },
  {
   "cell_type": "code",
   "execution_count": null,
   "metadata": {
    "hidden": true
   },
   "outputs": [],
   "source": [
    "g.send(-1)"
   ]
  },
  {
   "cell_type": "code",
   "execution_count": null,
   "metadata": {
    "hidden": true
   },
   "outputs": [],
   "source": [
    "g.send(-1)"
   ]
  },
  {
   "cell_type": "code",
   "execution_count": null,
   "metadata": {
    "hidden": true
   },
   "outputs": [],
   "source": []
  }
 ],
 "metadata": {
  "kernelspec": {
   "display_name": "Python 3",
   "language": "python",
   "name": "python3"
  },
  "language_info": {
   "codemirror_mode": {
    "name": "ipython",
    "version": 3
   },
   "file_extension": ".py",
   "mimetype": "text/x-python",
   "name": "python",
   "nbconvert_exporter": "python",
   "pygments_lexer": "ipython3",
   "version": "3.8.2"
  },
  "varInspector": {
   "cols": {
    "lenName": 16,
    "lenType": 16,
    "lenVar": 40
   },
   "kernels_config": {
    "python": {
     "delete_cmd_postfix": "",
     "delete_cmd_prefix": "del ",
     "library": "var_list.py",
     "varRefreshCmd": "print(var_dic_list())"
    },
    "r": {
     "delete_cmd_postfix": ") ",
     "delete_cmd_prefix": "rm(",
     "library": "var_list.r",
     "varRefreshCmd": "cat(var_dic_list()) "
    }
   },
   "position": {
    "height": "599px",
    "left": "989px",
    "right": "20px",
    "top": "120px",
    "width": "357px"
   },
   "types_to_exclude": [
    "module",
    "function",
    "builtin_function_or_method",
    "instance",
    "_Feature"
   ],
   "window_display": false
  }
 },
 "nbformat": 4,
 "nbformat_minor": 4
}
